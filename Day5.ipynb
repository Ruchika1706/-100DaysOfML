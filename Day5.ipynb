{
 "cells": [
  {
   "cell_type": "code",
   "execution_count": 2,
   "metadata": {},
   "outputs": [
    {
     "name": "stdout",
     "output_type": "stream",
     "text": [
      "                Average  Minimum  Maximum\n",
      "fuel-type                                \n",
      "diesel     15838.150000    31600     7099\n",
      "gas        12637.135135    45400        0\n"
     ]
    }
   ],
   "source": [
    "#Print the output in a certain way\n",
    "#               Average  Minimum  Maximum\n",
    "#fuel-type                                \n",
    "#diesel     15838.150000    31600     7099\n",
    "#gas        12637.135135    45400        0\n",
    "import pandas as pd\n",
    "columns = [\"symboling\",\"normalized-losses\",\"make\",\"fuel-type\",\"aspiration\",\"num-of-doors:\",\"body-style\",\"drive-wheels\",\n",
    "\"engine-location\",\"wheel-base\",\"length\",\"width\",\"height\",\"curb-weight\",\"engine-type\",\"num-of-cylinders\",\"engine-size\",\n",
    "\"fuel-system\",\"bore\",\"stroke\",\"compression-ratio\",\"horsepower\",\"peak-rpm\",\"city-mpg\",\"highway-mpg\",\"price\"]\n",
    "temp = pd.read_csv(\"https://archive.ics.uci.edu/ml/machine-learning-databases/autos/imports-85.data\", header = None, skipinitialspace = True, names=columns)\n",
    "df = pd.DataFrame(data=temp)\n",
    "df[\"price\"] = df[\"price\"].replace(\"?\",0) # Replace missing value with 0\n",
    "df['price'] = pd.to_numeric(df['price']) # convert the object data type to numeric data type\n",
    "df['price'].groupby(df['fuel-type']).mean() # group price column by fuel-type and calculate mean, output in series DS\n",
    "s1 = df['price'].groupby(df['fuel-type']).mean()\n",
    "s2 = df['price'].groupby(df['fuel-type']).max()\n",
    "s3 = df['price'].groupby(df['fuel-type']).min()\n",
    "df1 = pd.concat([s1,s2,s3], axis=1)\n",
    "df1.columns = ['Average', 'Minimum', 'Maximum']\n",
    "print(df1)\n",
    "\n",
    "    \n",
    "\n",
    "\n",
    "\n"
   ]
  },
  {
   "cell_type": "code",
   "execution_count": 12,
   "metadata": {},
   "outputs": [
    {
     "name": "stdout",
     "output_type": "stream",
     "text": [
      "                       Mean   Median                   Message\n",
      "make                                                          \n",
      "alfa-romero    15498.333333  16500.0   Data skewed to the left\n",
      "audi           15307.857143  17450.0   Data skewed to the left\n",
      "bmw            26118.750000  22835.0  Data skewed to the right\n",
      "chevrolet       6007.000000   6295.0   Data skewed to the left\n",
      "dodge           7875.444444   7609.0  Data skewed to the right\n",
      "honda           8184.692308   7295.0  Data skewed to the right\n",
      "isuzu           4458.250000   3392.5  Data skewed to the right\n",
      "jaguar         34600.000000  35550.0   Data skewed to the left\n",
      "mazda          10652.882353  10595.0  Data skewed to the right\n",
      "mercedes-benz  33647.000000  32892.0  Data skewed to the right\n",
      "mercury        16503.000000  16503.0                 Symmetric\n",
      "mitsubishi      9239.769231   8499.0  Data skewed to the right\n",
      "nissan         10415.666667   8124.0  Data skewed to the right\n",
      "peugot         15489.090909  16630.0   Data skewed to the left\n",
      "plymouth        7963.428571   7609.0  Data skewed to the right\n",
      "porsche        25120.400000  32528.0   Data skewed to the left\n",
      "renault         9595.000000   9595.0                 Symmetric\n",
      "saab           15223.333333  15275.0   Data skewed to the left\n",
      "subaru          8541.250000   7894.0  Data skewed to the right\n",
      "toyota          9885.812500   9103.0  Data skewed to the right\n",
      "volkswagen     10077.500000   9737.5  Data skewed to the right\n",
      "volvo          18063.181818  18420.0   Data skewed to the left\n"
     ]
    },
    {
     "name": "stderr",
     "output_type": "stream",
     "text": [
      "/anaconda3/lib/python3.7/site-packages/ipykernel_launcher.py:26: FutureWarning: set_value is deprecated and will be removed in a future release. Please use .at[] or .iat[] accessors instead\n",
      "/anaconda3/lib/python3.7/site-packages/ipykernel_launcher.py:28: FutureWarning: set_value is deprecated and will be removed in a future release. Please use .at[] or .iat[] accessors instead\n",
      "/anaconda3/lib/python3.7/site-packages/ipykernel_launcher.py:30: FutureWarning: set_value is deprecated and will be removed in a future release. Please use .at[] or .iat[] accessors instead\n"
     ]
    }
   ],
   "source": [
    "#Print the output in a certain way\n",
    "#                       Mean  Median                   Message\n",
    "#make                                                          \n",
    "#alfa-romero    15498.333333  16500.0   Data skewed to the left\n",
    "#audi           15307.857143  17450.0   Data skewed to the left\n",
    "#bmw            26118.750000  22835.0  Data skewed to the right\n",
    "#chevrolet       6007.000000   6295.0   Data skewed to the left\n",
    "#dodge           7875.444444   7609.0  Data skewed to the right\n",
    "#honda           8184.692308   7295.0  Data skewed to the right\n",
    "# ----------\n",
    "import pandas as pd\n",
    "import numpy as np\n",
    "columns = [\"symboling\",\"normalized-losses\",\"make\",\"fuel-type\",\"aspiration\",\"num-of-doors:\",\"body-style\",\"drive-wheels\",\n",
    "\"engine-location\",\"wheel-base\",\"length\",\"width\",\"height\",\"curb-weight\",\"engine-type\",\"num-of-cylinders\",\"engine-size\",\n",
    "\"fuel-system\",\"bore\",\"stroke\",\"compression-ratio\",\"horsepower\",\"peak-rpm\",\"city-mpg\",\"highway-mpg\",\"price\"]\n",
    "temp = pd.read_csv(\"https://archive.ics.uci.edu/ml/machine-learning-databases/autos/imports-85.data\", header = None, skipinitialspace = True, names=columns)\n",
    "df = pd.DataFrame(data=temp)\n",
    "df[\"price\"] = df[\"price\"].replace(\"?\",0) # Replace missing value with 0\n",
    "df['price'] = pd.to_numeric(df['price']) # convert the object data type to numeric data type\n",
    "s1 = df['price'].groupby(df['make']).mean()\n",
    "s2 = df['price'].groupby(df['make']).median()\n",
    "s3 = pd.Series()\n",
    "lst = s1.keys()\n",
    "for i in range(s1.size):\n",
    "    if s1[i] < s2[i]:\n",
    "        s3 = s3.set_value(lst[i],\"Data skewed to the left\")\n",
    "    elif s1[i] > s2[i]:\n",
    "        s3 = s3.set_value(lst[i],\"Data skewed to the right\")\n",
    "    else:\n",
    "        s3 = s3.set_value(lst[i],\"Symmetric\")\n",
    "df1 = pd.concat([s1,s2,s3], axis=1)\n",
    "df1.columns = ['Mean','Median','Message']\n",
    "print(df1)\n",
    "\n",
    "        "
   ]
  },
  {
   "cell_type": "code",
   "execution_count": null,
   "metadata": {},
   "outputs": [],
   "source": []
  },
  {
   "cell_type": "code",
   "execution_count": null,
   "metadata": {},
   "outputs": [],
   "source": []
  }
 ],
 "metadata": {
  "kernelspec": {
   "display_name": "Python 3",
   "language": "python",
   "name": "python3"
  },
  "language_info": {
   "codemirror_mode": {
    "name": "ipython",
    "version": 3
   },
   "file_extension": ".py",
   "mimetype": "text/x-python",
   "name": "python",
   "nbconvert_exporter": "python",
   "pygments_lexer": "ipython3",
   "version": "3.7.0"
  }
 },
 "nbformat": 4,
 "nbformat_minor": 2
}
