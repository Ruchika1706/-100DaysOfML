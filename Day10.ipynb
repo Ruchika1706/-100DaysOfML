{
 "cells": [
  {
   "cell_type": "code",
   "execution_count": 1,
   "metadata": {},
   "outputs": [
    {
     "name": "stdout",
     "output_type": "stream",
     "text": [
      "{'a': {'Sports': 1, 'Not a sports': 1}, 'great': {'Sports': 1, 'Not a sports': 0}, 'game': {'Sports': 1, 'Not a sports': 1}, 'the': {'Sports': 1, 'Not a sports': 2}, 'election': {'Sports': 0, 'Not a sports': 2}, 'was': {'Sports': 1, 'Not a sports': 2}, 'over': {'Sports': 1, 'Not a sports': 1}, 'very': {'Sports': 1, 'Not a sports': 0}, 'clean': {'Sports': 1, 'Not a sports': 0}, 'match': {'Sports': 2, 'Not a sports': 0}, 'close': {'Sports': 0, 'Not a sports': 1}}\n",
      "The given sentence would have a tag Not a Sports according to Naive bayes\n"
     ]
    }
   ],
   "source": [
    "# Topic Detection\n",
    "#Text                                      Tag\n",
    "#A great game                              Sports\n",
    "#The election was over                     Not a sports\n",
    "#Very clean match                          Sports\n",
    "#The election was a close game             Not a sports \n",
    "#The Match was over                        Sports\n",
    "import pandas\n",
    "temp = pandas.read_excel(\"/Users/ruluthra/Desktop/100DaysOfML/TopicDetection.xlsx\")\n",
    "s1 = temp['Tag'].value_counts()/temp['Tag'].count() # to calculate probability of sports and not a sports\n",
    "s2 = temp.groupby('Text')['Tag'].value_counts()/temp.groupby('Tag')['Text'].count()\n",
    "dic2 = {}\n",
    "i=0\n",
    "list1= []\n",
    "for each in temp['Text']:\n",
    "    l1 = each.lower().split()\n",
    "    for each in l1:\n",
    "        list1.append(each)\n",
    "\n",
    "for each in list1:\n",
    "    dic2[each] = {}\n",
    "    dic2[each]['Sports'] = 0\n",
    "    dic2[each]['Not a sports'] = 0\n",
    "    \n",
    "for each in temp['Text']:\n",
    "    l1 = each.lower().split()\n",
    "    for y in l1:\n",
    "        if(temp.at[i,\"Tag\"] == \"Sports\"):\n",
    "            dic2[y]['Sports'] += 1\n",
    "        else:\n",
    "            dic2[y]['Not a sports'] += 1\n",
    "    i = i + 1\n",
    "#Part 1 of the problem solved to calculate count of each word for each tag corresponding    \n",
    "print(dic2)\n",
    "\n",
    "def calculateProb(string):\n",
    "    list1 = string.lower().split()\n",
    "    count_sports = 0\n",
    "    cal_non_sports_count = 0\n",
    "    for each in dic2.keys():\n",
    "        count_sports = count_sports + dic2[each]['Sports']\n",
    "        cal_non_sports_count = cal_non_sports_count + dic2[each]['Not a sports']\n",
    "    prob_sports = 1\n",
    "    prob_non_sports = 1\n",
    "    for each in list1:\n",
    "        prob_sports *= (dic2[each]['Sports'])/count_sports\n",
    "        prob_non_sports *= (dic2[each]['Not a sports'])/cal_non_sports_count\n",
    "    prob_sports = prob_sports * s1['Sports']\n",
    "    prob_non_sports = prob_non_sports * s1['Not a sports']\n",
    "    if prob_sports > prob_non_sports:\n",
    "        print(\"The given sentence would have a tag Sports according to Naive bayes\")\n",
    "    else:\n",
    "        print(\"The given sentence would have a tag Not a Sports according to Naive bayes\")     \n",
    "calculateProb(\"The game was over\")\n",
    "        \n",
    "    \n"
   ]
  },
  {
   "cell_type": "code",
   "execution_count": null,
   "metadata": {},
   "outputs": [],
   "source": []
  }
 ],
 "metadata": {
  "kernelspec": {
   "display_name": "Python 3",
   "language": "python",
   "name": "python3"
  },
  "language_info": {
   "codemirror_mode": {
    "name": "ipython",
    "version": 3
   },
   "file_extension": ".py",
   "mimetype": "text/x-python",
   "name": "python",
   "nbconvert_exporter": "python",
   "pygments_lexer": "ipython3",
   "version": "3.7.0"
  }
 },
 "nbformat": 4,
 "nbformat_minor": 2
}
