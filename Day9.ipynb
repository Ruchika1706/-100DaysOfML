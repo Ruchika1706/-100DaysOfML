{
 "cells": [
  {
   "cell_type": "code",
   "execution_count": 43,
   "metadata": {},
   "outputs": [
    {
     "name": "stdout",
     "output_type": "stream",
     "text": [
      "   as  clean  close  election  game  great  match  over  the  very  was\n",
      "0   1      0      0         0     1      1      0     0    0     0    0\n",
      "1   0      0      0         1     0      0      0     1    1     0    1\n",
      "2   0      1      0         0     0      0      1     0    0     1    0\n",
      "3   2      0      1         1     1      0      0     0    1     0    1\n",
      "4   0      0      0         0     0      0      1     1    1     0    1\n",
      "X_train\n",
      "[[0 1 0 0 0 0 1 0 0 1 0]\n",
      " [1 0 0 0 1 1 0 0 0 0 0]\n",
      " [2 0 1 1 1 0 0 0 1 0 1]\n",
      " [0 0 0 0 0 0 1 1 1 0 1]]\n",
      "X_test\n",
      "[[0 0 0 1 0 0 0 1 1 0 1]]\n",
      "y_train\n",
      "['Sports', 'Sports', 'N Sports', 'Sports']\n",
      "y_test\n",
      "['N Sports']\n",
      "prediction\n",
      "['Sports']\n"
     ]
    }
   ],
   "source": [
    "# Example explaining how to extract feature set from a set of text documents\n",
    "# Making DataFrame of the entire dataset feature and their labels\n",
    "# Usage of train-test split framework \n",
    "# Training Multinomial Bayes Theorem to train the machine and test in the test set. \n",
    "\n",
    "import sklearn\n",
    "import pandas as pd\n",
    "from sklearn.feature_extraction.text import CountVectorizer\n",
    "import numpy as np\n",
    "from sklearn.model_selection import train_test_split\n",
    "from sklearn.naive_bayes import MultinomialNB\n",
    "corpus = [ 'As great game',\n",
    "'The election was over',\n",
    "'Very clean match',\n",
    "'The election was as close as game',\n",
    "'The match was over']\n",
    "vectorizer = CountVectorizer()\n",
    "#print(type(vectorizer)) # <class 'sklearn.feature_extraction.text.CountVectorizer'>\n",
    "X = vectorizer.fit_transform(corpus) #Learn the vocabulary dictionary and return term-document matrix.\n",
    "columns = vectorizer.get_feature_names() #names of the features, Array mapping from feature integer indices to feature name\n",
    "#print(vectorizer.get_stop_words()) # no stop words by default, a is not taken because of token_pattern argument\n",
    "data = X.toarray() # a numpy array, <class 'numpy.ndarray'>\n",
    "#print(type(data))\n",
    "df = pd.DataFrame(data=data, columns=columns)\n",
    "print(df)\n",
    "X_train, X_test, y_train, y_test = train_test_split(data,['Sports', 'N Sports', 'Sports','N Sports', 'Sports'] , test_size=0.20)\n",
    "print(\"X_train\")\n",
    "print(X_train)\n",
    "print(\"X_test\")\n",
    "print(X_test)\n",
    "print(\"y_train\")\n",
    "print(y_train)\n",
    "print(\"y_test\")\n",
    "print(y_test)\n",
    "clf = MultinomialNB()\n",
    "clf.fit(X_train, y_train)\n",
    "print(\"prediction\")\n",
    "print(clf.predict(X_test))\n"
   ]
  },
  {
   "cell_type": "code",
   "execution_count": null,
   "metadata": {},
   "outputs": [],
   "source": []
  },
  {
   "cell_type": "code",
   "execution_count": null,
   "metadata": {},
   "outputs": [],
   "source": []
  }
 ],
 "metadata": {
  "kernelspec": {
   "display_name": "Python 3",
   "language": "python",
   "name": "python3"
  },
  "language_info": {
   "codemirror_mode": {
    "name": "ipython",
    "version": 3
   },
   "file_extension": ".py",
   "mimetype": "text/x-python",
   "name": "python",
   "nbconvert_exporter": "python",
   "pygments_lexer": "ipython3",
   "version": "3.7.0"
  }
 },
 "nbformat": 4,
 "nbformat_minor": 2
}
