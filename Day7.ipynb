{
 "cells": [
  {
   "cell_type": "code",
   "execution_count": 1,
   "metadata": {},
   "outputs": [
    {
     "name": "stdout",
     "output_type": "stream",
     "text": [
      "130\n"
     ]
    }
   ],
   "source": [
    "#Create two separate lists of items bought - one of price of item and other of  quantity of item. \n",
    "#Print the total amount. Do the same without using any loops.\n",
    "price = [1,2,3,4,5]\n",
    "quantity = [6,7,8,9,10]\n",
    "print(sum([x*y for x,y in zip(price,quantity)]))"
   ]
  },
  {
   "cell_type": "code",
   "execution_count": 25,
   "metadata": {},
   "outputs": [
    {
     "name": "stdout",
     "output_type": "stream",
     "text": [
      "Magnesium\n",
      "214\n",
      "211\n"
     ]
    }
   ],
   "source": [
    "#For the data set present at https://archive.ics.uci.edu/ml/datasets/glass+identification\n",
    "\n",
    "#Find the following\n",
    "\n",
    "#a. The element whose percent weight is the most unpredictable. \n",
    "#b. How many containers have Potassium within 2 standard deviations of average potassium in all types of glass?\n",
    "\n",
    "\n",
    "#names is only necessary when there is no header and you want to specify other arguments \n",
    "#using column names rather than integer indices.\n",
    "#usecols is supposed to provide a filter before reading the whole DataFrame into memory; \n",
    "#if used properly, there should never be a need to delete columns after reading.\n",
    "\n",
    "import pandas as pd\n",
    "import numpy as np\n",
    "from scipy import stats\n",
    "columns = [\"id\", \"refractive_index\", \"Sodium\", \"Magnesium\", \"Aluminum\" , \"Silicon\" , \"Potassium\", \"Calcium\", \"Barium\", \"Iron\", \"Type\"]\n",
    "elements = [\"Sodium\", \"Magnesium\", \"Aluminum\" , \"Silicon\" , \"Potassium\", \"Calcium\", \"Barium\", \"Iron\"]\n",
    "data = pd.read_csv(\"https://archive.ics.uci.edu/ml/machine-learning-databases/glass/glass.data\", header= None, names =columns)\n",
    "df = pd.DataFrame(data=data)\n",
    "temp = []\n",
    "for each in elements:\n",
    "    temp.append(np.std(df[each]))\n",
    "    #print(np.std(df[each]))\n",
    "#print(temp)# standard deviation of all elements\n",
    "#print(max(temp)) #maximum value of standard deviation\n",
    "\n",
    "print(elements[temp.index(max(temp))]) # Element with maximum standard deviation\n",
    "\n",
    "# How many containers have Potassium within 2 standard deviations of average potassium in all types of glass?\n",
    "#First find the average potassium.\n",
    "avg_potassium = df['Potassium'].mean()\n",
    "\n",
    "#print(avg_potassium)\n",
    "#Standard deviation of potassium\n",
    "sd_potassium = temp[elements.index('Potassium')]\n",
    "#print(sd_potassium)\n",
    "#Calculate z score for all rows for the column Potassium\n",
    "#print(list(df['Potassium']))\n",
    "zscore = stats.zscore(list(df['Potassium']))\n",
    "#print(zscore)\n",
    "zs = []\n",
    "for each in df['Potassium']:\n",
    "    zs.append((avg_potassium-each)/sd_potassium)\n",
    "#print(zs)\n",
    "#print(zscore)\n",
    "    \n",
    "temp = [each for each in zs if ((each >= -2) and (each <=2))]\n",
    "print(len(zscore))\n",
    "print(len(temp))"
   ]
  },
  {
   "cell_type": "code",
   "execution_count": null,
   "metadata": {},
   "outputs": [],
   "source": []
  }
 ],
 "metadata": {
  "kernelspec": {
   "display_name": "Python 3",
   "language": "python",
   "name": "python3"
  },
  "language_info": {
   "codemirror_mode": {
    "name": "ipython",
    "version": 3
   },
   "file_extension": ".py",
   "mimetype": "text/x-python",
   "name": "python",
   "nbconvert_exporter": "python",
   "pygments_lexer": "ipython3",
   "version": "3.7.0"
  }
 },
 "nbformat": 4,
 "nbformat_minor": 2
}
