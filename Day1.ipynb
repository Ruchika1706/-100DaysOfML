{
 "cells": [
  {
   "cell_type": "code",
   "execution_count": 14,
   "metadata": {},
   "outputs": [
    {
     "name": "stdout",
     "output_type": "stream",
     "text": [
      "20.0\n"
     ]
    }
   ],
   "source": [
    "age = [ 19, 20, 21]\n",
    "freq = [1, 3, 1]\n",
    "sum = list()\n",
    "temp1 = 0\n",
    "temp2 = 0\n",
    "for i in range(0, len(age)):\n",
    "     sum.append(age[i] * freq[i])\n",
    "for each,x in zip(sum,freq):\n",
    "    temp1 += each\n",
    "    temp2 += x\n",
    "    \n",
    "mean = temp1/temp2\n",
    "print(mean)\n",
    "    \n",
    "        "
   ]
  },
  {
   "cell_type": "code",
   "execution_count": 4,
   "metadata": {},
   "outputs": [
    {
     "name": "stdout",
     "output_type": "stream",
     "text": [
      "         x      y        z      p  q\n",
      "0   YELLOW  SMALL  STRETCH  ADULT  T\n",
      "1   YELLOW  SMALL  STRETCH  CHILD  T\n",
      "2   YELLOW  SMALL      DIP  ADULT  T\n",
      "3   YELLOW  SMALL      DIP  CHILD  F\n",
      "4   YELLOW  SMALL      DIP  CHILD  F\n",
      "5   YELLOW  LARGE  STRETCH  ADULT  T\n",
      "6   YELLOW  LARGE  STRETCH  CHILD  T\n",
      "7   YELLOW  LARGE      DIP  ADULT  T\n",
      "8   YELLOW  LARGE      DIP  CHILD  F\n",
      "9   YELLOW  LARGE      DIP  CHILD  F\n",
      "10  PURPLE  SMALL  STRETCH  ADULT  T\n",
      "11  PURPLE  SMALL  STRETCH  CHILD  T\n",
      "12  PURPLE  SMALL      DIP  ADULT  T\n",
      "13  PURPLE  SMALL      DIP  CHILD  F\n",
      "14  PURPLE  SMALL      DIP  CHILD  F\n",
      "15  PURPLE  LARGE  STRETCH  ADULT  T\n",
      "16  PURPLE  LARGE  STRETCH  CHILD  T\n",
      "17  PURPLE  LARGE      DIP  ADULT  T\n",
      "18  PURPLE  LARGE      DIP  CHILD  F\n",
      "19  PURPLE  LARGE      DIP  CHILD  F\n"
     ]
    }
   ],
   "source": [
    "import pandas\n",
    "column_names = ['x', 'y','z','p','q']\n",
    "csv = pandas.read_csv(\"https://archive.ics.uci.edu/ml/machine-learning-databases/balloons/adult-stretch.data\",names = column_names)\n",
    "print(csv)"
   ]
  },
  {
   "cell_type": "code",
   "execution_count": null,
   "metadata": {},
   "outputs": [],
   "source": []
  }
 ],
 "metadata": {
  "kernelspec": {
   "display_name": "Python 3",
   "language": "python",
   "name": "python3"
  },
  "language_info": {
   "codemirror_mode": {
    "name": "ipython",
    "version": 3
   },
   "file_extension": ".py",
   "mimetype": "text/x-python",
   "name": "python",
   "nbconvert_exporter": "python",
   "pygments_lexer": "ipython3",
   "version": "3.7.0"
  }
 },
 "nbformat": 4,
 "nbformat_minor": 2
}
