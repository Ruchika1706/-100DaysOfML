{
 "cells": [
  {
   "cell_type": "code",
   "execution_count": 31,
   "metadata": {},
   "outputs": [
    {
     "name": "stdout",
     "output_type": "stream",
     "text": [
      "20.0\n"
     ]
    }
   ],
   "source": [
    "age = [ 19, 20, 21]\n",
    "freq = [1, 3, 1]\n",
    "sum1 = list()\n",
    "temp1 = 0\n",
    "temp2 = 0\n",
    "for i in range(0, len(age)):\n",
    "     sum1.append(age[i] * freq[i])\n",
    "for each,x in zip(sum1,freq):\n",
    "    temp1 += each\n",
    "    temp2 += x\n",
    "    \n",
    "mean = temp1/temp2\n",
    "print(mean)\n",
    "    \n",
    "        "
   ]
  },
  {
   "cell_type": "code",
   "execution_count": 11,
   "metadata": {},
   "outputs": [
    {
     "name": "stdout",
     "output_type": "stream",
     "text": [
      "     Color   Size      Act    Age Inflated\n",
      "0   YELLOW  SMALL  STRETCH  ADULT        T\n",
      "1   YELLOW  SMALL  STRETCH  CHILD        T\n",
      "2   YELLOW  SMALL      DIP  ADULT        T\n",
      "3   YELLOW  SMALL      DIP  CHILD        F\n",
      "4   YELLOW  SMALL      DIP  CHILD        F\n",
      "5   YELLOW  LARGE  STRETCH  ADULT        T\n",
      "6   YELLOW  LARGE  STRETCH  CHILD        T\n",
      "7   YELLOW  LARGE      DIP  ADULT        T\n",
      "8   YELLOW  LARGE      DIP  CHILD        F\n",
      "9   YELLOW  LARGE      DIP  CHILD        F\n",
      "10  PURPLE  SMALL  STRETCH  ADULT        T\n",
      "11  PURPLE  SMALL  STRETCH  CHILD        T\n",
      "12  PURPLE  SMALL      DIP  ADULT        T\n",
      "13  PURPLE  SMALL      DIP  CHILD        F\n",
      "14  PURPLE  SMALL      DIP  CHILD        F\n",
      "15  PURPLE  LARGE  STRETCH  ADULT        T\n",
      "16  PURPLE  LARGE  STRETCH  CHILD        T\n",
      "17  PURPLE  LARGE      DIP  ADULT        T\n",
      "18  PURPLE  LARGE      DIP  CHILD        F\n",
      "19  PURPLE  LARGE      DIP  CHILD        F\n"
     ]
    }
   ],
   "source": [
    "import pandas\n",
    "column_names = ['Color','Size','Act','Age','Inflated']\n",
    "csv = pandas.read_csv(\"https://archive.ics.uci.edu/ml/machine-learning-databases/balloons/adult-stretch.data\",names = column_names)\n",
    "print(csv)\n"
   ]
  },
  {
   "cell_type": "code",
   "execution_count": 10,
   "metadata": {},
   "outputs": [
    {
     "name": "stdout",
     "output_type": "stream",
     "text": [
      "         0      1        2      3  4\n",
      "0   YELLOW  SMALL  STRETCH  ADULT  T\n",
      "1   YELLOW  SMALL  STRETCH  CHILD  T\n",
      "2   YELLOW  SMALL      DIP  ADULT  T\n",
      "3   YELLOW  SMALL      DIP  CHILD  F\n",
      "4   YELLOW  SMALL      DIP  CHILD  F\n",
      "5   YELLOW  LARGE  STRETCH  ADULT  T\n",
      "6   YELLOW  LARGE  STRETCH  CHILD  T\n",
      "7   YELLOW  LARGE      DIP  ADULT  T\n",
      "8   YELLOW  LARGE      DIP  CHILD  F\n",
      "9   YELLOW  LARGE      DIP  CHILD  F\n",
      "10  PURPLE  SMALL  STRETCH  ADULT  T\n",
      "11  PURPLE  SMALL  STRETCH  CHILD  T\n",
      "12  PURPLE  SMALL      DIP  ADULT  T\n",
      "13  PURPLE  SMALL      DIP  CHILD  F\n",
      "14  PURPLE  SMALL      DIP  CHILD  F\n",
      "15  PURPLE  LARGE  STRETCH  ADULT  T\n",
      "16  PURPLE  LARGE  STRETCH  CHILD  T\n",
      "17  PURPLE  LARGE      DIP  ADULT  T\n",
      "18  PURPLE  LARGE      DIP  CHILD  F\n",
      "19  PURPLE  LARGE      DIP  CHILD  F\n"
     ]
    }
   ],
   "source": [
    "import pandas\n",
    "csv = pandas.read_csv(\"https://archive.ics.uci.edu/ml/machine-learning-databases/balloons/adult-stretch.data\",header=None)\n",
    "print(csv)\n"
   ]
  },
  {
   "cell_type": "code",
   "execution_count": 34,
   "metadata": {},
   "outputs": [
    {
     "name": "stdout",
     "output_type": "stream",
     "text": [
      "20.0\n"
     ]
    }
   ],
   "source": [
    "age = [ 19, 20, 21]\n",
    "freq = [1, 3, 1]\n",
    "temp = list()\n",
    "#Calculate average age \n",
    "for a1,f1 in zip(age,freq):\n",
    "    temp.append(a1 * f1)\n",
    "print(sum(temp)/sum(freq))\n",
    "    \n",
    "    "
   ]
  },
  {
   "cell_type": "code",
   "execution_count": 36,
   "metadata": {},
   "outputs": [
    {
     "name": "stdout",
     "output_type": "stream",
     "text": [
      "   0\n",
      "0  1\n",
      "1  2\n",
      "2  3\n",
      "3  4\n",
      "4  5\n"
     ]
    }
   ],
   "source": [
    "import pandas as pd\n",
    "data = [1,2,3,4,5]\n",
    "df = pd.DataFrame(data)\n",
    "print(df)"
   ]
  },
  {
   "cell_type": "code",
   "execution_count": 37,
   "metadata": {},
   "outputs": [
    {
     "name": "stdout",
     "output_type": "stream",
     "text": [
      "     Name  Age\n",
      "0    Alex   10\n",
      "1     Bob   12\n",
      "2  Clarke   13\n"
     ]
    }
   ],
   "source": [
    "import pandas as pd\n",
    "data = [['Alex',10],['Bob',12],['Clarke',13]]\n",
    "df = pd.DataFrame(data,columns=['Name','Age'])\n",
    "print(df)"
   ]
  },
  {
   "cell_type": "code",
   "execution_count": null,
   "metadata": {},
   "outputs": [],
   "source": []
  }
 ],
 "metadata": {
  "kernelspec": {
   "display_name": "Python 3",
   "language": "python",
   "name": "python3"
  },
  "language_info": {
   "codemirror_mode": {
    "name": "ipython",
    "version": 3
   },
   "file_extension": ".py",
   "mimetype": "text/x-python",
   "name": "python",
   "nbconvert_exporter": "python",
   "pygments_lexer": "ipython3",
   "version": "3.7.0"
  }
 },
 "nbformat": 4,
 "nbformat_minor": 2
}
