{
 "cells": [
  {
   "cell_type": "code",
   "execution_count": 4,
   "metadata": {},
   "outputs": [
    {
     "name": "stdout",
     "output_type": "stream",
     "text": [
      "X_train\n",
      "X_test\n",
      "y_train\n",
      "y_test\n",
      "prediction\n"
     ]
    },
    {
     "data": {
      "text/plain": [
       "0.9904306220095693"
      ]
     },
     "execution_count": 4,
     "metadata": {},
     "output_type": "execute_result"
    }
   ],
   "source": [
    "#Classify the set of messages into spam or ham (not spam) using Multinomial Naive Bayes Algorithm\n",
    "#Train Test Aplit followed by Vectorization. \n",
    "\n",
    "import sklearn\n",
    "import pandas as pd\n",
    "from sklearn.feature_extraction.text import CountVectorizer\n",
    "from sklearn.metrics import accuracy_score\n",
    "import numpy as np\n",
    "from sklearn.model_selection import train_test_split\n",
    "from sklearn.naive_bayes import MultinomialNB\n",
    "names = [\"Label\", \"Feature\"]\n",
    "data = pd.read_csv(\"https://raw.githubusercontent.com/justmarkham/pycon-2016-tutorial/master/data/sms.tsv\", header=None, sep='\\t', names=names)\n",
    "df1 = pd.DataFrame(data=data)\n",
    "\n",
    "# Step 1\" First train-test split \n",
    "X_train, X_test, y_train, y_test = train_test_split(df1['Feature'], df1['Label'], test_size=0.30, random_state=42)\n",
    "#if you use random_state=some_number, then you can guarantee that the output of Run 1 will be equal to the \n",
    "#output of Run 2, i.e. your split will be always the same. This is useful if you want reproducible results.\n",
    "print(\"X_train\")\n",
    "#X_train = X_train.to_frame() [ to_frame() used to convert Series into DataFrame]\n",
    "print(X_train)\n",
    "print(\"X_test\")\n",
    "#print(X_test)\n",
    "print(\"y_train\")\n",
    "#print(y_train)\n",
    "print(\"y_test\")\n",
    "#print(y_test)\n",
    "\n",
    "# Step 2: Vectorizer\n",
    "vectorizer = CountVectorizer()\n",
    "vectorizer.fit(X_train) # you would want to fit the vectorizer with X_train and transform for both X_train and X_test\n",
    "#print(X_train)\n",
    "X1 = vectorizer.transform(X_train)\n",
    "columns = vectorizer.get_feature_names()\n",
    "#print(type(X1)) #<class 'scipy.sparse.csr.csr_matrix'>\n",
    "data = X1.toarray() #would be a sparse matrix \n",
    "#print(type(data)) #<class 'numpy.ndarray'>\n",
    "#print(columns.index('jurong')) #7759 columns\n",
    "X2 = vectorizer.transform(X_test)\n",
    "#print(X1)\n",
    "#print(data)\n",
    "#print(data[0][354])\n",
    "\n",
    "# Step 3 Applying Naive Bayes Algorithm\n",
    "clf = MultinomialNB()\n",
    "clf.fit(X1, y_train)\n",
    "print(\"prediction\")\n",
    "y = clf.predict(X2)\n",
    "\n",
    "#Getting the accuracy Score for Naive Bayes\n",
    "accuracy_score(y_test, y)\n"
   ]
  },
  {
   "cell_type": "code",
   "execution_count": null,
   "metadata": {},
   "outputs": [],
   "source": []
  },
  {
   "cell_type": "code",
   "execution_count": null,
   "metadata": {},
   "outputs": [],
   "source": []
  },
  {
   "cell_type": "code",
   "execution_count": null,
   "metadata": {},
   "outputs": [],
   "source": []
  }
 ],
 "metadata": {
  "kernelspec": {
   "display_name": "Python 3",
   "language": "python",
   "name": "python3"
  },
  "language_info": {
   "codemirror_mode": {
    "name": "ipython",
    "version": 3
   },
   "file_extension": ".py",
   "mimetype": "text/x-python",
   "name": "python",
   "nbconvert_exporter": "python",
   "pygments_lexer": "ipython3",
   "version": "3.7.0"
  }
 },
 "nbformat": 4,
 "nbformat_minor": 2
}
