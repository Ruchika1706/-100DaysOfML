{
 "cells": [
  {
   "cell_type": "code",
   "execution_count": null,
   "metadata": {},
   "outputs": [],
   "source": []
  },
  {
   "cell_type": "code",
   "execution_count": 13,
   "metadata": {},
   "outputs": [
    {
     "name": "stdout",
     "output_type": "stream",
     "text": [
      "count      205.000000\n",
      "mean     12949.429268\n",
      "std       8079.043284\n",
      "min          0.000000\n",
      "25%       7689.000000\n",
      "50%      10198.000000\n",
      "75%      16500.000000\n",
      "max      45400.000000\n",
      "Name: price, dtype: float64\n",
      "45400\n",
      "0\n",
      "10198.0\n",
      "0    0\n",
      "dtype: int64\n",
      "12949.429268292683\n"
     ]
    }
   ],
   "source": [
    "# Function in Pandas to give all statistics by a single function\n",
    "import pandas as pd\n",
    "import numpy as np\n",
    "columns = [\"symboling\",\"normalized-losses\",\"make\",\"fuel-type\",\"aspiration\",\"num-of-doors:\",\"body-style\",\"drive-wheels\",\n",
    "\"engine-location\",\"wheel-base\",\"length\",\"width\",\"height\",\"curb-weight\",\"engine-type\",\"num-of-cylinders\",\"engine-size\",\n",
    "\"fuel-system\",\"bore\",\"stroke\",\"compression-ratio\",\"horsepower\",\"peak-rpm\",\"city-mpg\",\"highway-mpg\",\"price\"]\n",
    "temp = pd.read_csv(\"https://archive.ics.uci.edu/ml/machine-learning-databases/autos/imports-85.data\", header = None, skipinitialspace = True, names=columns)\n",
    "df = pd.DataFrame(data=temp)\n",
    "df[\"price\"] = df[\"price\"].replace(\"?\",0) # Replace missing value with 0\n",
    "df['price'] = pd.to_numeric(df['price']) # convert the object data type to numeric data type\n",
    "print(df['price'].describe())\n",
    "print(df['price'].max())\n",
    "print(df['price'].min())\n",
    "print(df['price'].median())\n",
    "print(df['price'].mode())\n",
    "print(df['price'].mean())\n",
    "\n",
    "        "
   ]
  },
  {
   "cell_type": "code",
   "execution_count": 78,
   "metadata": {},
   "outputs": [
    {
     "name": "stdout",
     "output_type": "stream",
     "text": [
      "           make    price\n",
      "0   alfa-romero  13495.0\n",
      "1          audi  13950.0\n",
      "2         dodge  12964.0\n",
      "3         honda  12945.0\n",
      "4         mazda  11845.0\n",
      "5         mazda  13645.0\n",
      "6    mitsubishi  12629.0\n",
      "7        nissan  13499.0\n",
      "8        nissan  13499.0\n",
      "9        peugot  11900.0\n",
      "10       peugot  13200.0\n",
      "11       peugot  12440.0\n",
      "12       peugot  13860.0\n",
      "13     plymouth  12764.0\n",
      "14         saab  11850.0\n",
      "15         saab  12170.0\n",
      "16       subaru  11694.0\n",
      "17   volkswagen  13295.0\n",
      "18   volkswagen  13845.0\n",
      "19   volkswagen  12290.0\n",
      "20        volvo  12940.0\n",
      "21        volvo  13415.0\n",
      "0    peugot\n",
      "dtype: object\n"
     ]
    }
   ],
   "source": [
    "#Question \n",
    "#. Which make of car is most likely to be bought if the price is within 10% of mean price?\n",
    "#-> First find the mean price\n",
    "#-> First find the range i.e. what is +-10% of mean price\n",
    "#-> Find the cars whose price is within this range. then the make of the car with max freq in this would be the answer.\n",
    "#->\n",
    "\n",
    "import pandas as pd\n",
    "import numpy as np\n",
    "columns = [\"symboling\",\"normalized-losses\",\"make\",\"fuel-type\",\"aspiration\",\"num-of-doors:\",\"body-style\",\"drive-wheels\",\n",
    "\"engine-location\",\"wheel-base\",\"length\",\"width\",\"height\",\"curb-weight\",\"engine-type\",\"num-of-cylinders\",\"engine-size\",\n",
    "\"fuel-system\",\"bore\",\"stroke\",\"compression-ratio\",\"horsepower\",\"peak-rpm\",\"city-mpg\",\"highway-mpg\",\"price\"]\n",
    "temp = pd.read_csv(\"https://archive.ics.uci.edu/ml/machine-learning-databases/autos/imports-85.data\", header = None, skipinitialspace = True, names=columns)\n",
    "df = pd.DataFrame(data=temp)\n",
    "df[\"price\"] = df[\"price\"].replace(\"?\",0) # Replace missing value with 0\n",
    "df['price'] = pd.to_numeric(df['price']) # convert the object data type to numeric data type\n",
    "temp = df['price'].mean()\n",
    "#print(temp)\n",
    "temp1 = temp + 0.1 * temp\n",
    "temp2 = temp - 0.1 * temp\n",
    "x = df['price'].between(temp2, temp1) #Rows where the price is within range would be True\n",
    "df1 = pd.DataFrame() # Initialize empty dataframe.\n",
    "for each in range(x.size):\n",
    "    if x[each] == True:\n",
    "        temp = df.loc[each, ['price','make']]\n",
    "        df1 = df1.append(temp,ignore_index = True)   #append does not happen in place.      \n",
    "#print(df1)\n",
    "print(df1['make'].mode())\n",
    "\n",
    "\n",
    "\n",
    "\n",
    "\n"
   ]
  },
  {
   "cell_type": "code",
   "execution_count": null,
   "metadata": {},
   "outputs": [],
   "source": []
  }
 ],
 "metadata": {
  "kernelspec": {
   "display_name": "Python 3",
   "language": "python",
   "name": "python3"
  },
  "language_info": {
   "codemirror_mode": {
    "name": "ipython",
    "version": 3
   },
   "file_extension": ".py",
   "mimetype": "text/x-python",
   "name": "python",
   "nbconvert_exporter": "python",
   "pygments_lexer": "ipython3",
   "version": "3.7.0"
  }
 },
 "nbformat": 4,
 "nbformat_minor": 2
}
