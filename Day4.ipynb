{
 "cells": [
  {
   "cell_type": "code",
   "execution_count": 26,
   "metadata": {},
   "outputs": [
    {
     "name": "stdout",
     "output_type": "stream",
     "text": [
      "<class 'pandas.core.series.Series'>\n",
      "<class 'pandas.core.frame.DataFrame'>\n",
      "make\n",
      "alfa-romero      16500\n",
      "audi             23875\n",
      "bmw              41315\n",
      "chevrolet         6575\n",
      "dodge            12964\n",
      "honda            12945\n",
      "isuzu            11048\n",
      "jaguar           36000\n",
      "mazda            18344\n",
      "mercedes-benz    45400\n",
      "mercury          16503\n",
      "mitsubishi       14869\n",
      "nissan           19699\n",
      "peugot           18150\n",
      "plymouth         12764\n",
      "porsche          37028\n",
      "renault           9895\n",
      "saab             18620\n",
      "subaru           11694\n",
      "toyota           17669\n",
      "volkswagen       13845\n",
      "volvo            22625\n",
      "Name: price, dtype: int64\n",
      "<class 'pandas.core.series.Series'>\n",
      "mercedes-benz\n"
     ]
    },
    {
     "data": {
      "text/plain": [
       "'jaguar'"
      ]
     },
     "execution_count": 26,
     "metadata": {},
     "output_type": "execute_result"
    }
   ],
   "source": [
    "import pandas as pd\n",
    "columns = [\"symboling\",\"normalized-losses\",\"make\",\"fuel-type\",\"aspiration\",\"num-of-doors:\",\"body-style\",\"drive-wheels\",\n",
    "\"engine-location\",\"wheel-base\",\"length\",\"width\",\"height\",\"curb-weight\",\"engine-type\",\"num-of-cylinders\",\"engine-size\",\n",
    "\"fuel-system\",\"bore\",\"stroke\",\"compression-ratio\",\"horsepower\",\"peak-rpm\",\"city-mpg\",\"highway-mpg\",\"price\"]\n",
    "temp = pd.read_csv(\"https://archive.ics.uci.edu/ml/machine-learning-databases/autos/imports-85.data\", header = None, skipinitialspace = True, names=columns)\n",
    "df = pd.DataFrame(data=temp)\n",
    "df[\"price\"] = df[\"price\"].replace(\"?\",0) # Replace missing value with 0\n",
    "df['price'] = pd.to_numeric(df['price']) # convert the object data type to numeric data type\n",
    "print(type(df['price']))\n",
    "print(type(df[['price','make']]))\n",
    "\n",
    "#Find out which make type of cars is the most expensive\n",
    "print(df['price'].groupby(df['make']).max()) # group price column by make, find max of each group\n",
    "print(type(df['price'].groupby(df['make']).max())) #<class 'pandas.core.series.Series'>\n",
    "s = df['price'].groupby(df['make']).max() \n",
    "print(s.idxmax()) #idxmax to find the index in series with maximum value\n",
    "\n",
    "# find the model which makes the most expensive cars in general\n",
    "df['price'].groupby(df['make']).mean().idxmax()"
   ]
  },
  {
   "cell_type": "code",
   "execution_count": null,
   "metadata": {},
   "outputs": [],
   "source": []
  },
  {
   "cell_type": "code",
   "execution_count": null,
   "metadata": {},
   "outputs": [],
   "source": []
  }
 ],
 "metadata": {
  "kernelspec": {
   "display_name": "Python 3",
   "language": "python",
   "name": "python3"
  },
  "language_info": {
   "codemirror_mode": {
    "name": "ipython",
    "version": 3
   },
   "file_extension": ".py",
   "mimetype": "text/x-python",
   "name": "python",
   "nbconvert_exporter": "python",
   "pygments_lexer": "ipython3",
   "version": "3.7.0"
  }
 },
 "nbformat": 4,
 "nbformat_minor": 2
}
