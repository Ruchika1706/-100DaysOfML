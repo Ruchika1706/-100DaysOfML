{
 "cells": [
  {
   "cell_type": "code",
   "execution_count": 86,
   "metadata": {
    "scrolled": true
   },
   "outputs": [
    {
     "name": "stdout",
     "output_type": "stream",
     "text": [
      "    color    type    origin stolen\n",
      "0     red  sports  domestic    yes\n",
      "1     red  sports  domestic     no\n",
      "2     red  sports  domestic    yes\n",
      "3  yellow  sports  domestic     no\n",
      "4  yellow  sports  imported    yes\n",
      "5  yellow     suv  imported     no\n",
      "6  yellow     suv  imported    yes\n",
      "7  yellow     suv  domestic     no\n",
      "8     red     suv  imported     no\n",
      "9     red  sports  imported    yes\n",
      "0.024\n",
      "0.072\n",
      "Probability of given red suv domestic is of not being stolen\n"
     ]
    }
   ],
   "source": [
    "import pandas\n",
    "columns = ['color', 'type','origin','stolen']\n",
    "temp = pandas.read_csv(\"/Users/ruluthra/Desktop/Data.csv\", sep ='\\s+')\n",
    "print(temp)\n",
    "#value_counts() calculates separate count of different values of a given attribute\n",
    "#count() gives count of all the possible values of a given attribute\n",
    "def calculateProb(color1, type1, origin1):\n",
    "    s1 = temp['stolen'].value_counts()/temp['stolen'].count() # probability of yes and no\n",
    "    s2 = temp['color'].value_counts()/temp['color'].count() # probability of red and yellow\n",
    "    s3 = temp['origin'].value_counts()/temp['origin'].count() #probability of Domestic and imported\n",
    "    s4 = temp['type'].value_counts()/temp['type'].count() #probability of suv or sports\n",
    "    s5 = temp.groupby('color')['stolen'].value_counts()/temp.groupby('stolen')['color'].count() #probability of color given stolen value\n",
    "    s6 = temp.groupby('type')['stolen'].value_counts()/temp.groupby('stolen')['type'].count() #probability of type given stolen value\n",
    "    s7 = temp.groupby('origin')['stolen'].value_counts()/temp.groupby('stolen')['origin'].count() #probability of origin given stolen value\n",
    "    s_yes = s5[color1]['yes'] * s6[type1]['yes'] * s7[origin1]['yes'] * s1['yes']\n",
    "    s_no = s5[color1]['no'] * s6[type1]['no'] * s7[origin1]['no'] * s1['no']\n",
    "    print(s_yes)\n",
    "    print(s_no)\n",
    "    if (s_yes > s_no):\n",
    "        print(\"Probability of given {} {} {} is of being stolen\", color1, type1, origin1)\n",
    "    else: \n",
    "        print(\"Probability of given {} {} {} is of not being stolen\".format(color1, type1, origin1))\n",
    "\n",
    "# Calculate probability of red , domestic, suv for being stolen\n",
    "calculateProb('red','suv','domestic')\n",
    "\n"
   ]
  },
  {
   "cell_type": "code",
   "execution_count": null,
   "metadata": {},
   "outputs": [],
   "source": []
  },
  {
   "cell_type": "code",
   "execution_count": null,
   "metadata": {},
   "outputs": [],
   "source": []
  },
  {
   "cell_type": "code",
   "execution_count": null,
   "metadata": {},
   "outputs": [],
   "source": []
  },
  {
   "cell_type": "code",
   "execution_count": null,
   "metadata": {},
   "outputs": [],
   "source": []
  }
 ],
 "metadata": {
  "kernelspec": {
   "display_name": "Python 3",
   "language": "python",
   "name": "python3"
  },
  "language_info": {
   "codemirror_mode": {
    "name": "ipython",
    "version": 3
   },
   "file_extension": ".py",
   "mimetype": "text/x-python",
   "name": "python",
   "nbconvert_exporter": "python",
   "pygments_lexer": "ipython3",
   "version": "3.7.0"
  }
 },
 "nbformat": 4,
 "nbformat_minor": 2
}
